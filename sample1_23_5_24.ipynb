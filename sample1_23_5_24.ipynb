{
  "nbformat": 4,
  "nbformat_minor": 0,
  "metadata": {
    "colab": {
      "provenance": []
    },
    "kernelspec": {
      "name": "python3",
      "display_name": "Python 3"
    },
    "language_info": {
      "name": "python"
    }
  },
  "cells": [
    {
      "cell_type": "code",
      "execution_count": null,
      "metadata": {
        "colab": {
          "base_uri": "https://localhost:8080/"
        },
        "id": "6IoVQbIGA63I",
        "outputId": "7d8be0b6-50e7-43d4-cf3f-b338a783c875"
      },
      "outputs": [
        {
          "output_type": "stream",
          "name": "stdout",
          "text": [
            "Number of completed products: 6.0\n",
            "Linear equation: 10.0 * ProductB_Pending + 5.0 * ProductB_InProgress + 2.0 * ProductB_Completed + 8.0 * ProductC_Pending + 7.0 * ProductC_InProgress + 3.0 * ProductC_Completed + 15.0 * ProductA_Pending + 4.0 * ProductA_InProgress + 1.0 * ProductA_Completed = Total\n"
          ]
        },
        {
          "output_type": "stream",
          "name": "stderr",
          "text": [
            "/usr/local/lib/python3.10/dist-packages/pulp/pulp.py:1316: UserWarning: Spaces are not permitted in the name. Converted to '_'\n",
            "  warnings.warn(\"Spaces are not permitted in the name. Converted to '_'\")\n"
          ]
        }
      ],
      "source": [
        "import numpy as np\n",
        "from scipy.sparse import csr_matrix\n",
        "from pulp import LpVariable, LpProblem, LpMinimize, lpSum, value\n",
        "\n",
        "# Create a dictionary of the knowledge graph\n",
        "knowledge_graph = {\n",
        "    ('ProductA', 'Completed'): 10,\n",
        "    ('ProductA', 'InProgress'): 5,\n",
        "    ('ProductA', 'Pending'): 2,\n",
        "    ('ProductB', 'Completed'): 8,\n",
        "    ('ProductB', 'InProgress'): 7,\n",
        "    ('ProductB', 'Pending'): 3,\n",
        "    ('ProductC', 'Completed'): 15,\n",
        "    ('ProductC', 'InProgress'): 4,\n",
        "    ('ProductC', 'Pending'): 1\n",
        "}\n",
        "\n",
        "# Extract unique nodes (products) and statuses\n",
        "products = list(set([edge[0] for edge in knowledge_graph.keys()]))\n",
        "statuses = list(set([edge[1] for edge in knowledge_graph.keys()]))\n",
        "\n",
        "# Create a mapping between node names and indices\n",
        "product_indices = {product: i for i, product in enumerate(products)}\n",
        "status_indices = {status: i for i, status in enumerate(statuses)}\n",
        "\n",
        "# Create a matrix of the knowledge graph\n",
        "matrix = csr_matrix((np.ones(len(knowledge_graph)), ([product_indices[edge[0]] for edge in knowledge_graph.keys()],\n",
        "                                                     [status_indices[edge[1]] for edge in knowledge_graph.keys()])),\n",
        "                    shape=(len(products), len(statuses)))\n",
        "\n",
        "# Create a vector of the weights of the edges in the knowledge graph\n",
        "weights = np.array([knowledge_graph[edge] for edge in knowledge_graph.keys()])\n",
        "\n",
        "# Create a vector of the variables\n",
        "variables = [LpVariable(f'{product}_{status}', lowBound=0) for product in products for status in statuses]\n",
        "\n",
        "# Define the objective function (minimizing a dummy objective as we are interested in constraints)\n",
        "objective = lpSum([0 * var for var in variables])  # Dummy objective\n",
        "\n",
        "# Create the constraints\n",
        "constraints = []\n",
        "\n",
        "# Add constraint: sum of all products' statuses should equal the known weights\n",
        "for i, (product, status) in enumerate(knowledge_graph.keys()):\n",
        "    constraints.append(variables[i] == weights[i])\n",
        "\n",
        "# Create the model\n",
        "model = LpProblem(\"Product Status Query\", LpMinimize)\n",
        "\n",
        "# Add the objective function and constraints to the model\n",
        "model += objective\n",
        "for c in constraints:\n",
        "    model += c\n",
        "\n",
        "# Solve the model\n",
        "model.solve()\n",
        "\n",
        "# Function to query the number of completed products\n",
        "def query_completed_products():\n",
        "    completed_product_vars = [var for var in variables if 'Completed' in var.name]\n",
        "    total_completed = sum([value(var) for var in completed_product_vars])\n",
        "    return total_completed\n",
        "\n",
        "# Query the number of completed products\n",
        "completed_products = query_completed_products()\n",
        "print(\"Number of completed products:\", completed_products)\n",
        "\n",
        "# Generate the linear equation (not strictly necessary for the query, but included for completeness)\n",
        "equation = \"\"\n",
        "for i, var in enumerate(variables):\n",
        "    if value(var) > 0:\n",
        "        equation += f\"{value(var)} * {var.name} + \"\n",
        "equation = equation.rstrip(\" + \") + \" = Total\"\n",
        "print(\"Linear equation:\", equation)\n"
      ]
    },
    {
      "cell_type": "code",
      "source": [
        "!pip install pulp"
      ],
      "metadata": {
        "colab": {
          "base_uri": "https://localhost:8080/"
        },
        "id": "pO3W27uHEPxM",
        "outputId": "8cfd8dd1-df30-44d1-d567-46ab7af1301f"
      },
      "execution_count": null,
      "outputs": [
        {
          "output_type": "stream",
          "name": "stdout",
          "text": [
            "Collecting pulp\n",
            "  Downloading PuLP-2.8.0-py3-none-any.whl (17.7 MB)\n",
            "\u001b[2K     \u001b[90m━━━━━━━━━━━━━━━━━━━━━━━━━━━━━━━━━━━━━━━━\u001b[0m \u001b[32m17.7/17.7 MB\u001b[0m \u001b[31m33.7 MB/s\u001b[0m eta \u001b[36m0:00:00\u001b[0m\n",
            "\u001b[?25hInstalling collected packages: pulp\n",
            "Successfully installed pulp-2.8.0\n"
          ]
        }
      ]
    }
  ]
}