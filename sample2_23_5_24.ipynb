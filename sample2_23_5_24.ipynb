{
  "nbformat": 4,
  "nbformat_minor": 0,
  "metadata": {
    "colab": {
      "provenance": []
    },
    "kernelspec": {
      "name": "python3",
      "display_name": "Python 3"
    },
    "language_info": {
      "name": "python"
    }
  },
  "cells": [
    {
      "cell_type": "code",
      "execution_count": 2,
      "metadata": {
        "id": "V-qpA6UhFbMB",
        "colab": {
          "base_uri": "https://localhost:8080/",
          "height": 0
        },
        "outputId": "3a853d6f-9761-4d5d-9925-3a1880049424"
      },
      "outputs": [
        {
          "output_type": "stream",
          "name": "stdout",
          "text": [
            "Requirement already satisfied: pulp in /usr/local/lib/python3.10/dist-packages (2.8.0)\n"
          ]
        }
      ],
      "source": [
        "!pip install pulp"
      ]
    },
    {
      "cell_type": "code",
      "source": [
        "import numpy as np\n",
        "from scipy.sparse import csr_matrix\n",
        "from pulp import LpVariable, LpProblem, LpMinimize, lpSum, value\n",
        "\n",
        "# Define the knowledge graph\n",
        "knowledge_graph = {\n",
        "    ('ProductA', 'Completed'): 10,\n",
        "    ('ProductA', 'InProgress'): 5,\n",
        "    ('ProductA', 'Pending'): 2,\n",
        "    ('ProductB', 'Completed'): 8,\n",
        "    ('ProductB', 'InProgress'): 7,\n",
        "    ('ProductB', 'Pending'): 3,\n",
        "    ('ProductC', 'Completed'): 15,\n",
        "    ('ProductC', 'InProgress'): 4,\n",
        "    ('ProductC', 'Pending'): 1\n",
        "}\n",
        "\n",
        "# Extract unique nodes (products) and statuses\n",
        "products = list(set([edge[0] for edge in knowledge_graph.keys()]))\n",
        "statuses = list(set([edge[1] for edge in knowledge_graph.keys()]))\n",
        "\n",
        "# Create a mapping between node names and indices\n",
        "product_indices = {product: i for i, product in enumerate(products)}\n",
        "status_indices = {status: i for i, status in enumerate(statuses)}\n",
        "\n",
        "# Create a matrix of the knowledge graph\n",
        "matrix = csr_matrix((np.ones(len(knowledge_graph)), ([product_indices[edge[0]] for edge in knowledge_graph.keys()],\n",
        "                                                     [status_indices[edge[1]] for edge in knowledge_graph.keys()])),\n",
        "                    shape=(len(products), len(statuses)))\n",
        "\n",
        "# Create a vector of the weights of the edges in the knowledge graph\n",
        "weights = np.array([knowledge_graph[edge] for edge in knowledge_graph.keys()])\n",
        "\n",
        "# Create a vector of the variables\n",
        "variables = [LpVariable(f'{product}_{status}', lowBound=0) for product in products for status in statuses]\n",
        "\n",
        "# Define the objective function (minimizing a dummy objective as we are interested in constraints)\n",
        "objective = lpSum([0 * var for var in variables])  # Dummy objective\n",
        "\n",
        "# Create the constraints\n",
        "constraints = []\n",
        "\n",
        "# Add constraint: sum of all products' statuses should equal the known weights\n",
        "for i, (product, status) in enumerate(knowledge_graph.keys()):\n",
        "    constraints.append(variables[i] == weights[i])\n",
        "\n",
        "# Create the model\n",
        "model = LpProblem(\"Product Status Query\", LpMinimize)\n",
        "\n",
        "# Add the objective function and constraints to the model\n",
        "model += objective\n",
        "for c in constraints:\n",
        "    model += c\n",
        "\n",
        "# Solve the model\n",
        "model.solve()\n",
        "\n",
        "# Function to query the number of products based on the specified status\n",
        "def query_products(query):\n",
        "    query = query.strip().lower()\n",
        "    if \"how many\" in query and \"completed\" in query:\n",
        "        query_status = \"Completed\"\n",
        "    elif \"how many\" in query and \"in progress\" in query:\n",
        "        query_status = \"InProgress\"\n",
        "    elif \"how many\" in query and \"pending\" in query:\n",
        "        query_status = \"Pending\"\n",
        "    else:\n",
        "        raise ValueError(\"Query not understood. Please ask about 'completed', 'in progress', or 'pending' products.\")\n",
        "\n",
        "    relevant_vars = [var for var in variables if query_status in var.name]\n",
        "    total = sum([value(var) for var in relevant_vars])\n",
        "    return total\n",
        "\n",
        "# Ask the user for a query\n",
        "user_query = input(\"Please enter your query about the products: \")\n",
        "\n",
        "# Query the number of products based on the user-defined query\n",
        "try:\n",
        "    total_products = query_products(user_query)\n",
        "    print(f\"Number of products that are {user_query.split()[-1].lower()}: {total_products}\")\n",
        "except ValueError as e:\n",
        "    print(e)\n",
        "\n",
        "# Generate the linear equation (not strictly necessary for the query, but included for completeness)\n",
        "equation = \"\"\n",
        "for i, var in enumerate(variables):\n",
        "    if value(var) > 0:\n",
        "        equation += f\"{value(var)} * {var.name} + \"\n",
        "equation = equation.rstrip(\" + \") + \" = Total\"\n",
        "print(\"Linear equation:\", equation)\n"
      ],
      "metadata": {
        "colab": {
          "base_uri": "https://localhost:8080/",
          "height": 0
        },
        "id": "8w9Rz50NHGDa",
        "outputId": "780017ea-973b-486c-fa0e-db354468a615"
      },
      "execution_count": 4,
      "outputs": [
        {
          "output_type": "stream",
          "name": "stdout",
          "text": [
            "Please enter your query about the products: how many products completed\n",
            "Number of products that are completed: 16.0\n",
            "Linear equation: 10.0 * ProductB_Pending + 5.0 * ProductB_Completed + 2.0 * ProductB_InProgress + 8.0 * ProductC_Pending + 7.0 * ProductC_Completed + 3.0 * ProductC_InProgress + 15.0 * ProductA_Pending + 4.0 * ProductA_Completed + 1.0 * ProductA_InProgress = Total\n"
          ]
        }
      ]
    }
  ]
}