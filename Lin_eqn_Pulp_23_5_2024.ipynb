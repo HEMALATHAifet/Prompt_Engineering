{
  "nbformat": 4,
  "nbformat_minor": 0,
  "metadata": {
    "colab": {
      "provenance": []
    },
    "kernelspec": {
      "name": "python3",
      "display_name": "Python 3"
    },
    "language_info": {
      "name": "python"
    }
  },
  "cells": [
    {
      "cell_type": "code",
      "execution_count": 1,
      "metadata": {
        "colab": {
          "base_uri": "https://localhost:8080/"
        },
        "id": "TgFNw-51zX4d",
        "outputId": "8802ddad-7ac6-4e93-cb3d-ec35d7a4ae3d"
      },
      "outputs": [
        {
          "output_type": "stream",
          "name": "stdout",
          "text": [
            "Collecting pulp\n",
            "  Downloading PuLP-2.8.0-py3-none-any.whl (17.7 MB)\n",
            "\u001b[2K     \u001b[90m━━━━━━━━━━━━━━━━━━━━━━━━━━━━━━━━━━━━━━━━\u001b[0m \u001b[32m17.7/17.7 MB\u001b[0m \u001b[31m35.6 MB/s\u001b[0m eta \u001b[36m0:00:00\u001b[0m\n",
            "\u001b[?25hInstalling collected packages: pulp\n",
            "Successfully installed pulp-2.8.0\n"
          ]
        }
      ],
      "source": [
        "!pip install pulp"
      ]
    },
    {
      "cell_type": "code",
      "source": [
        "!pip install numpy"
      ],
      "metadata": {
        "colab": {
          "base_uri": "https://localhost:8080/"
        },
        "id": "gfauzcnT0J4-",
        "outputId": "faa192d2-12a8-441a-8bf5-bd1face604a4"
      },
      "execution_count": 2,
      "outputs": [
        {
          "output_type": "stream",
          "name": "stdout",
          "text": [
            "Requirement already satisfied: numpy in /usr/local/lib/python3.10/dist-packages (1.25.2)\n"
          ]
        }
      ]
    },
    {
      "cell_type": "code",
      "source": [
        "!pip install scipy"
      ],
      "metadata": {
        "colab": {
          "base_uri": "https://localhost:8080/"
        },
        "id": "hGjNIX7m0RpO",
        "outputId": "81690716-cd07-454c-8caa-f860ce12cd93"
      },
      "execution_count": 3,
      "outputs": [
        {
          "output_type": "stream",
          "name": "stdout",
          "text": [
            "Requirement already satisfied: scipy in /usr/local/lib/python3.10/dist-packages (1.11.4)\n",
            "Requirement already satisfied: numpy<1.28.0,>=1.21.6 in /usr/local/lib/python3.10/dist-packages (from scipy) (1.25.2)\n"
          ]
        }
      ]
    },
    {
      "cell_type": "code",
      "source": [
        "import numpy as np\n",
        "from scipy.sparse import csr_matrix\n",
        "from pulp import LpVariable, LpProblem, LpMinimize, lpSum\n",
        "\n",
        "# Create a dictionary of the knowledge graph\n",
        "knowledge_graph = {\n",
        "    ('A', 'B'): 2,\n",
        "    ('B', 'C'): 3,\n",
        "    ('C', 'A'): 1\n",
        "}\n",
        "\n",
        "# Create a list of the nodes in the knowledge graph\n",
        "nodes = list(set([node for edge in knowledge_graph.keys() for node in edge]))\n",
        "\n",
        "# Create a mapping between node names and indices\n",
        "node_indices = {node: i for i, node in enumerate(nodes)}\n",
        "\n",
        "# Create a matrix of the knowledge graph\n",
        "matrix = csr_matrix((np.ones(len(knowledge_graph)), ([node_indices[edge[0]] for edge in knowledge_graph.keys()],\n",
        "                                                     [node_indices[edge[1]] for edge in knowledge_graph.keys()])),\n",
        "                    shape=(len(nodes), len(nodes)))\n",
        "\n",
        "# Create a vector of the weights of the edges in the knowledge graph\n",
        "weights = np.array([knowledge_graph[edge] for edge in knowledge_graph.keys()])\n",
        "\n",
        "# Create a vector of the variables\n",
        "variables = [LpVariable(node, lowBound=0) for node in nodes]\n",
        "\n",
        "# Create the objective function\n",
        "objective = lpSum([weights[i] * variables[node_indices[edge[0]]] for i, edge in enumerate(knowledge_graph.keys())])\n",
        "\n",
        "# Create the constraints\n",
        "constraints = []\n",
        "constraints.append(lpSum([variables[i] for i in range(len(variables))]) == 1)\n",
        "for i, edge in enumerate(knowledge_graph.keys()):\n",
        "    constraints.append(lpSum(matrix[node_indices[edge[0]], j] * variables[j] for j in range(len(variables))) >= weights[i])\n",
        "\n",
        "# Create the model\n",
        "model = LpProblem(\"Linear Equation\", LpMinimize)\n",
        "\n",
        "# Add the objective function and constraints to the model\n",
        "model += objective\n",
        "for c in constraints:\n",
        "    model += c\n",
        "\n",
        "# Solve the model\n",
        "model.solve()\n",
        "\n",
        "# Print the solution\n",
        "print(\"Optimal solution:\")\n",
        "for variable in variables:\n",
        "    print(variable.name, \":\", variable.varValue)\n",
        "\n",
        "# Generate the linear equation\n",
        "equation = \"\"\n",
        "for i in range(len(variables)):\n",
        "    if variables[i].varValue > 0:\n",
        "        equation += str(weights[i] * variables[i].varValue) + variables[i].name + \" + \"\n",
        "equation = equation[:-2] + \" = 1\"\n",
        "\n",
        "# Print the linear equation\n",
        "print(\"Linear equation:\", equation)\n"
      ],
      "metadata": {
        "colab": {
          "base_uri": "https://localhost:8080/"
        },
        "id": "mYKkUO6K6dp0",
        "outputId": "5e1adf46-27a5-4f2d-fd0c-a12b0a66d78c"
      },
      "execution_count": 16,
      "outputs": [
        {
          "output_type": "stream",
          "name": "stdout",
          "text": [
            "Optimal solution:\n",
            "A : 0.0\n",
            "B : 2.0\n",
            "C : 3.0\n",
            "Linear equation: 6.0B + 3.0C  = 1\n"
          ]
        },
        {
          "output_type": "stream",
          "name": "stderr",
          "text": [
            "/usr/local/lib/python3.10/dist-packages/pulp/pulp.py:1316: UserWarning: Spaces are not permitted in the name. Converted to '_'\n",
            "  warnings.warn(\"Spaces are not permitted in the name. Converted to '_'\")\n"
          ]
        }
      ]
    }
  ]
}